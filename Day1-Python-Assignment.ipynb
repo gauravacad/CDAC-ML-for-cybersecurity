{
  "nbformat": 4,
  "nbformat_minor": 0,
  "metadata": {
    "colab": {
      "provenance": [],
      "collapsed_sections": [
        "JpVWppROwjYi",
        "QJXkvqx0w_48",
        "ikgCnEb7-eMw",
        "JLCJoaNB_tpv",
        "cGK5uRCpD3A_",
        "nMsKUqqPiv2Z",
        "NXtrWtPxoNpw"
      ],
      "toc_visible": true
    },
    "kernelspec": {
      "name": "python3",
      "display_name": "Python 3"
    },
    "language_info": {
      "name": "python"
    }
  },
  "cells": [
    {
      "cell_type": "markdown",
      "source": [
        "# Assignment: Python Basics Part 1\n",
        "\n",
        "### Instructions:\n",
        "1. Open this assignment in Google Colab.\n",
        "2. Follow the guided instructions in each exercise.\n",
        "3. Complete the tasks by filling in the blanks or modifying the code where prompted.\n",
        "4. Run the code cells to see the output and understand the logic.\n",
        "5. Run your cells using SHIFT+ENTER (or \"Run cell\")\n",
        "6. Write code in the designated areas.\n",
        "7. Do not modify the code outside of the designated areas\n",
        "\n",
        "After this assignment you will:\n",
        "\n",
        "    Be able to use iPython Notebooks.\n",
        "    Be able to code & understand basic python.\n",
        "    Build a basic foundation for future concepts.\n",
        "\n",
        "Let's get started!\n",
        "---\n",
        "\n"
      ],
      "metadata": {
        "id": "xd8lnfwl5Dqd"
      }
    },
    {
      "cell_type": "markdown",
      "source": [
        "\n",
        "## **Variable Declarations & Printing in Python**\n",
        "Here we will understand how to declare variable in python and print them.\n",
        "- **Task**: Declare three variables and understand their data types.\n",
        "- **Steps**:\n",
        "  1. Assign the following values:\n",
        "     - `x` as an integer (e.g., 10)\n",
        "     - `y` as a float (e.g., 20.5)\n",
        "     - `z` as a string (e.g., \"Python\")\n",
        "  2. Print each variable.\n",
        "  3. Print the type of each variable using `type()`."
      ],
      "metadata": {
        "id": "JpVWppROwjYi"
      }
    },
    {
      "cell_type": "code",
      "source": [
        "# Step 1: Declare variables\n",
        "x = __  # Fill in an integer value\n",
        "y = __  # Fill in a float value\n",
        "z = __  # Fill in a string value\n",
        "\n",
        "# Step 2: Print variables\n",
        "print(\"x:\", x)\n",
        "print(\"y:\", y)\n",
        "print(\"z:\", z)\n",
        "\n",
        "# Step 3: Print data types\n",
        "print(\"Type of x:\", type(x))\n",
        "print(\"Type of y:\", type(y))\n",
        "print(\"Type of z:\", type(z))\n",
        "\n",
        "# Step 4: Try to declare a new variable and print its value.\n",
        "# Start your code here #\n",
        "\n"
      ],
      "metadata": {
        "id": "Gvu0UiCX1PC4",
        "outputId": "7023994d-3bdd-4433-e8f0-0e9a1f75c5aa",
        "colab": {
          "base_uri": "https://localhost:8080/"
        }
      },
      "execution_count": null,
      "outputs": [
        {
          "output_type": "stream",
          "name": "stdout",
          "text": [
            "x: \n",
            "y: \n",
            "z: \n",
            "Type of x: <class 'str'>\n",
            "Type of y: <class 'str'>\n",
            "Type of z: <class 'str'>\n"
          ]
        }
      ]
    },
    {
      "cell_type": "markdown",
      "source": [
        "### *Dynamic Printing*\n",
        "Trying to understand how to take a variable directly from the user and print its value.\n",
        "- **Task**: Declare a variable and print it dynamically by taking user's input.\n",
        "- **Steps**:\n",
        "  1. Assign a variable and take user's input as its value.\n",
        "  2. Print the variable."
      ],
      "metadata": {
        "id": "27XOo6SK6NSk"
      }
    },
    {
      "cell_type": "code",
      "source": [
        "#Step 1: Take user's input.\n",
        "user_num = int(input(\"Please enter your number : \"))\n",
        "\n",
        "#Step 2: Print the number.\n",
        "# Making use of f-string literal, which is used to add values within curly braces.\n",
        "print(f\"Your number is {user_num}\")\n"
      ],
      "metadata": {
        "colab": {
          "base_uri": "https://localhost:8080/"
        },
        "id": "p0UT25ln6lXF",
        "outputId": "0032633c-8b19-4c00-9111-a0fd0170acfe"
      },
      "execution_count": null,
      "outputs": [
        {
          "output_type": "stream",
          "name": "stdout",
          "text": [
            "Please enter your number : 8\n",
            "Your number is 8\n"
          ]
        }
      ]
    },
    {
      "cell_type": "markdown",
      "source": [
        "## **Working with basic data types.**\n",
        "There are different data types in python. In the previous questions, you worked with integers, float, complex and strings.\n",
        "Now, We will work and understand List, Tuple, Range & Dictionary.\n",
        "\n",
        "    The list can be represented by [ ], e.g. [1, 2, 3, 4, 5]\n",
        "    A tuple can be represented by  ( ), e.g. (1, 2, 3, 4, 5)\n",
        "    The set can be represented by { }, e.g. {1, 2, 3, 4, 5}\n",
        "    The dictionary can be represented by { }, e.g. {\"name\":\"John\", \"age\":45}\n",
        "\n",
        "**Creating these data-types**\n",
        "    \n",
        "    new_list = []\n",
        "    new_tuple = ()\n",
        "    new_set = set()\n",
        "    new_dict = {}\n",
        "\n",
        "**Task**: We will be understanding how to work with list, tuple, range and dictionaries.\n",
        "\n",
        "**Steps**:    \n",
        "  \n",
        "    1.)Create a list fruits with the values \"apple\", \"banana\", \"cherry\".\n",
        "    2.)Create a tuple coordinates with values 10, 20, 30.\n",
        "    3.)Create a dictionary student with keys \"name\", \"age\", and \"grade\" Assign values \"Alice\", 22, \"A\".\n",
        "\n",
        "Print each data structure."
      ],
      "metadata": {
        "id": "QJXkvqx0w_48"
      }
    },
    {
      "cell_type": "code",
      "source": [
        "# Step 1: Define the data structures\n",
        "fruits = [] # Fill in a list of strings, e.g., [\"apple\", \"banana\", \"cherry\"]\n",
        "coordinates = ()  # Fill in a tuple of numbers, e.g., (10, 20, 30)\n",
        "student = {\"name\": __, \"age\": __}  # Fill in values\n",
        "\n",
        "# Step 2: Print the data structures\n",
        "print(\"Fruits list:\", fruits)\n",
        "print(\"Coordinates tuple:\", coordinates)\n",
        "print(\"Student dictionary:\", student)"
      ],
      "metadata": {
        "id": "UlFdvfOIB4D3"
      },
      "execution_count": null,
      "outputs": []
    },
    {
      "cell_type": "markdown",
      "source": [
        "### *Working with Tuple*\n",
        "\n",
        "1. Create a tuple colors containing random numbers.\n",
        "2. Access and print the second element of the tuple.\n",
        "3. Try to modify the third element of the tuple and observe the result.\n"
      ],
      "metadata": {
        "id": "tKDVizuM9Sff"
      }
    },
    {
      "cell_type": "code",
      "source": [
        "# Step 1: Define the tuple\n",
        "number_tuple = (5, 4, 3, 2, 1)\n",
        "\n",
        "# Step 2: Access and print the second element\n",
        "print(\"Second number\", __) # Try to print the second number from the tuple.\n",
        "\n",
        "print(\"Third number:\", number_tuple[2])  # Using indexing to access the third element from the tuple.\n",
        "\n",
        "# Step 3: Try modifying the tuple (uncomment the line below and run it)\n",
        "# number_tuple[2] = 10\n",
        "# print(number_tuple)\n",
        "\n",
        "# Try to understand what happened after you tried to change a tuple."
      ],
      "metadata": {
        "colab": {
          "base_uri": "https://localhost:8080/"
        },
        "id": "8d_Edr0V9OT-",
        "outputId": "8c80e242-08d3-408f-c69e-323ed65a3404"
      },
      "execution_count": null,
      "outputs": [
        {
          "output_type": "stream",
          "name": "stdout",
          "text": [
            "Second number \n",
            "Third number: 3\n"
          ]
        }
      ]
    },
    {
      "cell_type": "markdown",
      "source": [
        "### *Working with Sets*\n",
        "\n",
        "1. Create a set prime_numbers with the values 2, 3, 5, 7, 11\n",
        "2. Add 13 to the set using add().\n",
        "3. Remove 7 from the set using remove().\n",
        "\n",
        "Print the final Set."
      ],
      "metadata": {
        "id": "ikgCnEb7-eMw"
      }
    },
    {
      "cell_type": "code",
      "source": [
        "# Step 1: Define the set\n",
        "prime_numbers = __  # Fill in a set, e.g., {2, 3, 5, 7, 11}\n",
        "\n",
        "# Step 2: Modify the set\n",
        "# prime_numbers.add(__)  # Add 13\n",
        "# prime_numbers.remove(__)  # Remove 7\n",
        "\n",
        "# Step 3: Print the final set\n",
        "print(\"Final set of prime numbers:\", prime_numbers)"
      ],
      "metadata": {
        "colab": {
          "base_uri": "https://localhost:8080/"
        },
        "id": "q9BejcSh-gx3",
        "outputId": "e026029d-e992-493d-e203-e3225c1b9078"
      },
      "execution_count": null,
      "outputs": [
        {
          "output_type": "stream",
          "name": "stdout",
          "text": [
            "Final set of prime numbers: \n"
          ]
        }
      ]
    },
    {
      "cell_type": "markdown",
      "source": [
        "### *Working with Dictionaries*\n",
        "\n",
        "1. Create a dictionary inventory with keys \"apples\", \"bananas\", and \"oranges\" having values 10, 20, and 15, respectively.\n",
        "2. Add a new key-value pair: \"grapes\": 12.\n",
        "3. Update the value of \"bananas\" to 25.\n",
        "4. Remove the key \"oranges\" using pop().\n",
        "\n",
        "Print the final dictionary and its length.\n",
        "***\n",
        "\n",
        "1. Start with the dictionary car = {\"brand\": \"Toyota\", \"model\": \"Corolla\", \"year\": 2020}.\n",
        "2. Add a new key-value pair: \"color\": \"red\".\n",
        "3. Update the value of year to 2022.\n",
        "4. Remove the key model.\n",
        "\n",
        "Print the final dictionary.\n",
        "\n"
      ],
      "metadata": {
        "id": "JLCJoaNB_tpv"
      }
    },
    {
      "cell_type": "code",
      "source": [
        "# Step 1: Define the dictionary\n",
        "inventory = {\"apples\": 10, \"bananas\": __, \"oranges\": __}  # Fill in values, for example in apples.\n",
        "\n",
        "# Step 2: Modify the dictionary\n",
        "inventory[__] = __  # Add \"grapes\": 12\n",
        "inventory[__] = __  # Update \"bananas\" to 25\n",
        "inventory.pop(\"oranges\")  # Remove \"oranges\"\n",
        "\n",
        "# Step 3: Print the dictionary and its length\n",
        "print(\"Updated inventory:\", inventory)\n",
        "print(\"Number of items in inventory:\", len(inventory))"
      ],
      "metadata": {
        "colab": {
          "base_uri": "https://localhost:8080/"
        },
        "id": "FPiYfCdv_-qX",
        "outputId": "49440cf9-36b2-4a06-9822-46f5224e32b6"
      },
      "execution_count": null,
      "outputs": [
        {
          "output_type": "stream",
          "name": "stdout",
          "text": [
            "Updated inventory: {'apples': 10, 'bananas': ''}\n",
            "Number of items in inventory: 2\n"
          ]
        }
      ]
    },
    {
      "cell_type": "code",
      "source": [
        "# Step 1: Define the dictionary\n",
        "car = {\"brand\": \"Toyota\", \"model\": \"Corolla\", \"year\": 2020}\n",
        "\n",
        "# Step 2: Modify the dictionary\n",
        "car[__] = __  # Add \"color\": \"red\"\n",
        "car[__] = __  # Update \"year\" to 2022\n",
        "del car[__]  # Remove the \"model\" key\n",
        "\n",
        "# Step 3: Print the modified dictionary\n",
        "print(\"Updated car dictionary:\", car)"
      ],
      "metadata": {
        "id": "Ff0NbQGECAbn"
      },
      "execution_count": null,
      "outputs": []
    },
    {
      "cell_type": "markdown",
      "source": [
        "### *Working with List*\n",
        "\n",
        "1. Start with the list numbers = [1, 2, 3, 4, 5].\n",
        "2. Add 6 to the end of the list using append().\n",
        "3. Insert 0 at the beginning of the list using insert().\n",
        "4. Remove the number 3 using remove().\n",
        "5. Sort the list in ascending order using sort().\n",
        "\n",
        "Print the modified list and its length.\n",
        "\n"
      ],
      "metadata": {
        "id": "--HwDzPYCLjQ"
      }
    },
    {
      "cell_type": "code",
      "source": [
        "# Step 1: Define the list\n",
        "numbers = [1, 2, 3, 4, 5]\n",
        "\n",
        "# Step 2: Modify the list\n",
        "numbers.append(__)  # Add 6 in the bracket.\n",
        "numbers.insert(__, __)  # Insert 0 at index 0: num.insert(number to be added, the index you want to add)\n",
        "numbers.remove(__)  # Remove 3\n",
        "numbers.sort()  # Sort the list\n",
        "\n",
        "# Step 3: Print the modified list\n",
        "print(\"Modified list:\", numbers)\n",
        "print(\"Length of the list:\", len(numbers))"
      ],
      "metadata": {
        "id": "TMgPFmvECXYP"
      },
      "execution_count": null,
      "outputs": []
    },
    {
      "cell_type": "markdown",
      "source": [
        "## **Basic arithmetic operations**\n",
        "Understanding how we will perform basic mathematical operations in python.\n",
        "\n",
        "Declare variables a = 8 and b = 3 in your code.\n",
        "Perform and print results for the following operations:\n",
        "\n",
        "* Addition\n",
        "* Subtraction\n",
        "* Multiplication\n",
        "* Division\n",
        "* Modulus\n",
        "* Exponentiation\n",
        "* Floor division\n",
        "\n",
        "Hint: Use operators like +, -, *, /, %, //, and **."
      ],
      "metadata": {
        "id": "cGK5uRCpD3A_"
      }
    },
    {
      "cell_type": "code",
      "source": [
        "# Step 1: Declare variables\n",
        "a = __  # Fill in a value, e.g., 8\n",
        "b = __  # Fill in a value, e.g., 3\n",
        "\n",
        "# Step 2: Perform operations\n",
        "print(\"Addition (a + b):\", a + b)\n",
        "print(\"Subtraction (a - b):\", a - b)\n",
        "print(\"Multiplication (a * b):\", a * b)\n",
        "print(\"Division (a / b):\", a / b)\n",
        "print(\"Modulus (a % b):\", a % b)\n",
        "print(\"Exponentiation (a ** b):\", a ** b)\n",
        "print(\"Floor Division (a // b):\", a // b)"
      ],
      "metadata": {
        "id": "St9H-fg5FAMf"
      },
      "execution_count": null,
      "outputs": []
    },
    {
      "cell_type": "markdown",
      "source": [
        "## **Understanding Control Flow & Operators**\n",
        "\n",
        "Control flow and operators are essential in programming because they form the foundation of logic and decision-making, enabling developers to create dynamic, efficient, and functional programs.\n",
        "\n",
        "***\n",
        "\n",
        "### *Relational Operators*\n",
        "\n",
        "    Used for comparing values. Returns a boolean value\n"
      ],
      "metadata": {
        "id": "nMsKUqqPiv2Z"
      }
    },
    {
      "cell_type": "code",
      "source": [
        "# Step 1: Declare two numbers\n",
        "a = 15\n",
        "b = 10\n",
        "\n",
        "# Step 2: Compare the numbers\n",
        "print(\"Is a equal to b?\", a == b)  # Equality check\n",
        "print(\"Is a not equal to b?\", a != b)  # Not equal check\n",
        "print(\"Is a greater than b?\", a > b)  # Greater than check\n",
        "print(\"Is a less than or equal to b?\", a <= b)  # Less than or equal check"
      ],
      "metadata": {
        "colab": {
          "base_uri": "https://localhost:8080/"
        },
        "id": "WUnnrtExmqAR",
        "outputId": "5b724477-7bb8-46fc-eae3-b2046a1efb63"
      },
      "execution_count": null,
      "outputs": [
        {
          "output_type": "stream",
          "name": "stdout",
          "text": [
            "Is a equal to b? False\n",
            "Is a not equal to b? True\n",
            "Is a greater than b? True\n",
            "Is a less than or equal to b? False\n"
          ]
        }
      ]
    },
    {
      "cell_type": "markdown",
      "source": [
        "### *Logical Operators*\n",
        "\n",
        "    AND\n",
        "    OR\n",
        "    NOT"
      ],
      "metadata": {
        "id": "NPZM6z70m37B"
      }
    },
    {
      "cell_type": "code",
      "source": [
        "# Step 1: Input a number\n",
        "num = int(input(\"Enter a number: \"))\n",
        "\n",
        "# Step 2: Use logical operators\n",
        "if num > 0 and num % 2 == 0:\n",
        "    print(\"The number is positive and even.\")\n",
        "elif num > 0 and num % 2 != 0:\n",
        "    print(\"The number is positive and odd.\")\n",
        "else:\n",
        "    print(\"The number is either zero or negative.\")\n"
      ],
      "metadata": {
        "id": "rQZpmBm6muXF"
      },
      "execution_count": null,
      "outputs": []
    },
    {
      "cell_type": "markdown",
      "source": [
        "### *Control Flow (If-Elif)*\n",
        "Control flow structures allow programs to make decisions based on conditions, enabling dynamic behavior.\n",
        "Example: Executing different actions based on user input or system states."
      ],
      "metadata": {
        "id": "NXtrWtPxoNpw"
      }
    },
    {
      "cell_type": "code",
      "source": [
        "# Step 1: Input a number\n",
        "num = int(input(\"Enter a number: \"))\n",
        "\n",
        "# Step 2: Check the conditions\n",
        "if __:  # Replace __ with a condition to check if num > 0\n",
        "    print(\"The number is positive.\")\n",
        "elif __:  # Replace __ with a condition to check if num < 0\n",
        "    print(\"The number is negative.\")\n",
        "else:\n",
        "    print(\"The number is zero.\")\n"
      ],
      "metadata": {
        "id": "Ne0K6oWcoWE0"
      },
      "execution_count": null,
      "outputs": []
    },
    {
      "cell_type": "code",
      "source": [
        "# Step 1: Input student marks\n",
        "marks = int(input(\"Enter your marks (0-100): \"))\n",
        "\n",
        "# Step 2: Categorize the student\n",
        "if __:  # Replace __ with a condition to check marks >= 90\n",
        "    print(\"Grade: A\")\n",
        "elif __:  # Replace __ with a condition to check marks >= 75\n",
        "    print(\"Grade: B\")\n",
        "elif __:  # Replace __ with a condition to check marks >= 50\n",
        "    print(\"Grade: C\")\n",
        "else:\n",
        "    print(\"Grade: F\")\n"
      ],
      "metadata": {
        "id": "JvaxJaVysTLh"
      },
      "execution_count": null,
      "outputs": []
    },
    {
      "cell_type": "markdown",
      "source": [
        "### *Loops in Control Flow*\n",
        "Now, we will learn to execute a code through loops. There are two ways to utilise loops. One being the for loop and the other being the while loop.\n",
        "\n",
        "The syntax for these are given below:\n",
        "\n",
        "      for i in range(0, 10):\n",
        "        ##code to be executed.\n",
        "\n",
        "      while(true):\n",
        "        ##code to be executed\n",
        "        ##exiting the loop.\n"
      ],
      "metadata": {
        "id": "U1Qzq59OtE8K"
      }
    },
    {
      "cell_type": "code",
      "source": [
        "# Step 1: Input a number\n",
        "num = int(input(\"Enter a number: \"))\n",
        "\n",
        "# Step 2: Use a loop to generate the table\n",
        "print(\"Multiplication Table:\")\n",
        "for i in range(1, 11):\n",
        "    print(__)  # Replace __ with the multiplication formula, e.g., num * i\n",
        "\n",
        "# Step 3: Print only the even numbers from 1 to 50.\n",
        "for num in range(51):\n",
        "    print()"
      ],
      "metadata": {
        "id": "-iCSpu29t7fp"
      },
      "execution_count": null,
      "outputs": []
    },
    {
      "cell_type": "code",
      "source": [
        "# Step 1: Input the value of n\n",
        "n = int(input(\"Enter a positive integer: \"))\n",
        "\n",
        "# Step 2: Initialize variables\n",
        "sum = 0\n",
        "i = 1\n",
        "\n",
        "# Step 3: Use a while loop\n",
        "while __:  # Replace __ with a condition to run while i <= n\n",
        "    sum += i\n",
        "    i += 1\n",
        "\n",
        "print(\"Sum of numbers from 1 to\", n, \"is:\", sum)\n"
      ],
      "metadata": {
        "id": "IeyHHyyzuvAK"
      },
      "execution_count": null,
      "outputs": []
    },
    {
      "cell_type": "markdown",
      "source": [
        "### *Use of Break and Continue*\n",
        "\n",
        "break\n",
        "* Immediately exits the loop\n",
        "* Stopping further iterations.\n",
        "* It's useful for terminating a loop early when a specific condition is met, improving efficiency.\n",
        "\n",
        "continue\n",
        "* Skips the current iteration and moves to the next one.\n",
        "* It's helpful for ignoring certain cases without stopping the entire loop, maintaining control over logic flow.\n",
        "\n",
        "\n",
        "   "
      ],
      "metadata": {
        "id": "ibE_46Ejwtd7"
      }
    },
    {
      "cell_type": "code",
      "source": [
        "# Step 1: Use a for loop to iterate from 1 to 10\n",
        "for i in range(1, 11):\n",
        "    if i == 7:  # Condition to stop the loop\n",
        "        print(\"Encountered 7, stopping the loop.\")\n",
        "        break  # Stop the loop\n",
        "    print(i)  # Print the current number\n",
        "\n",
        "\n",
        "# Execute a code where it prints numbers from 1 to 10 but when we encounter 5 it breaks."
      ],
      "metadata": {
        "id": "VBFGglMSxjuY"
      },
      "execution_count": null,
      "outputs": []
    },
    {
      "cell_type": "code",
      "source": [
        "# Step 1: Use a for loop to iterate from 1 to 10\n",
        "for i in range(1, 11):\n",
        "    if i == 5:  # Condition to skip printing\n",
        "        continue  # Skip this iteration\n",
        "    print(i)  # Print the current number\n",
        "\n",
        "# Code a loop which continues on even numbers and prints odd numbers in the range(0 to 10)."
      ],
      "metadata": {
        "id": "8G69iSyRxvjI"
      },
      "execution_count": null,
      "outputs": []
    }
  ]
}